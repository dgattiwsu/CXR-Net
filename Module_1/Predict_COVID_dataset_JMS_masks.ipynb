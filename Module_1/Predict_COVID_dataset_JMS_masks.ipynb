{
 "cells": [
  {
   "cell_type": "markdown",
   "metadata": {},
   "source": [
    "### Predict lung masks for Covid database images using model trained on JMS lung segmentation database   \n",
    "\n"
   ]
  },
  {
   "cell_type": "code",
   "execution_count": 1,
   "metadata": {},
   "outputs": [],
   "source": [
    "# In[1]:\n",
    "\n",
    "import os, sys, shutil\n",
    "from os import listdir\n",
    "from os.path import isfile, join \n",
    "import random\n",
    "import numpy as np\n",
    "import cv2\n"
   ]
  },
  {
   "cell_type": "code",
   "execution_count": 2,
   "metadata": {},
   "outputs": [],
   "source": [
    "# In[2]:\n",
    "\n",
    "from MODULES.Generators import train_generator_1, val_generator_1, test_generator_1\n",
    "from MODULES.Generators import train_generator_2, val_generator_2, test_generator_2\n",
    "from MODULES.Networks import ResNet_Atrous, Dense_ResNet_Atrous\n",
    "from MODULES.Networks import ResUNet, ResUNet_Big, ResUNet_CR, ResUNet_CR_Big\n",
    "from MODULES.Losses import dice_coeff\n",
    "from MODULES.Losses import tani_loss, tani_coeff, weighted_tani_coeff\n",
    "from MODULES.Losses import weighted_tani_loss, other_metrics\n",
    "from MODULES.Constants import _Params, _Paths\n",
    "from MODULES.Utils import get_class_threshold, get_model_memory_usage\n",
    "import tensorflow as tf \n",
    "from tensorflow.keras.optimizers import Adam\n",
    "from tensorflow.keras.models import model_from_json, load_model \n",
    "from tensorflow.python.client import device_lib\n",
    "import matplotlib.pyplot as plt\n",
    "import datetime\n",
    "\n",
    "# automatic reload of external definitions if changed during testing\n",
    "%load_ext autoreload\n",
    "%autoreload 2\n"
   ]
  },
  {
   "cell_type": "code",
   "execution_count": 3,
   "metadata": {},
   "outputs": [],
   "source": [
    "# In[3]:\n",
    "\n",
    "# ### CONSTANTS\n",
    "\n",
    "HEIGHT, WIDTH, CHANNELS, IMG_COLOR_MODE, MSK_COLOR_MODE, NUM_CLASS, \\\n",
    "    KS1, KS2, KS3, DL1, DL2, DL3, NF, NFL, NR1, NR2, DIL_MODE, W_MODE, LS, \\\n",
    "    TRAIN_SIZE, VAL_SIZE, TEST_SIZE, DR1, DR2, CLASSES, IMG_CLASS = _Params()\n",
    "\n",
    "TRAIN_IMG_PATH, TRAIN_MSK_PATH, TRAIN_MSK_CLASS, VAL_IMG_PATH, \\\n",
    "    VAL_MSK_PATH, VAL_MSK_CLASS, TEST_IMG_PATH, TEST_MSK_PATH, TEST_MSK_CLASS = _Paths()\n"
   ]
  },
  {
   "cell_type": "code",
   "execution_count": 5,
   "metadata": {},
   "outputs": [
    {
     "name": "stdout",
     "output_type": "stream",
     "text": [
      "INFO:tensorflow:Using MirroredStrategy with devices ('/job:localhost/replica:0/task:0/device:GPU:0', '/job:localhost/replica:0/task:0/device:GPU:1')\n",
      "INFO:tensorflow:Reduce to /job:localhost/replica:0/task:0/device:CPU:0 then broadcast to ('/job:localhost/replica:0/task:0/device:CPU:0',).\n",
      "INFO:tensorflow:Reduce to /job:localhost/replica:0/task:0/device:CPU:0 then broadcast to ('/job:localhost/replica:0/task:0/device:CPU:0',).\n",
      "INFO:tensorflow:Reduce to /job:localhost/replica:0/task:0/device:CPU:0 then broadcast to ('/job:localhost/replica:0/task:0/device:CPU:0',).\n",
      "INFO:tensorflow:Reduce to /job:localhost/replica:0/task:0/device:CPU:0 then broadcast to ('/job:localhost/replica:0/task:0/device:CPU:0',).\n",
      "INFO:tensorflow:Reduce to /job:localhost/replica:0/task:0/device:CPU:0 then broadcast to ('/job:localhost/replica:0/task:0/device:CPU:0',).\n",
      "INFO:tensorflow:Reduce to /job:localhost/replica:0/task:0/device:CPU:0 then broadcast to ('/job:localhost/replica:0/task:0/device:CPU:0',).\n",
      "INFO:tensorflow:Reduce to /job:localhost/replica:0/task:0/device:CPU:0 then broadcast to ('/job:localhost/replica:0/task:0/device:CPU:0',).\n",
      "INFO:tensorflow:Reduce to /job:localhost/replica:0/task:0/device:CPU:0 then broadcast to ('/job:localhost/replica:0/task:0/device:CPU:0',).\n",
      "INFO:tensorflow:Reduce to /job:localhost/replica:0/task:0/device:CPU:0 then broadcast to ('/job:localhost/replica:0/task:0/device:CPU:0',).\n",
      "INFO:tensorflow:Reduce to /job:localhost/replica:0/task:0/device:CPU:0 then broadcast to ('/job:localhost/replica:0/task:0/device:CPU:0',).\n"
     ]
    }
   ],
   "source": [
    "# In[4]: \n",
    "\n",
    "# ### LOAD ENTIRE MODEL FROM PREVIOUS RUN END AND COMPILE\n",
    "\n",
    "model_selection = 'model_' + str(NF) + 'F_' + str(NR1) + 'R1_' + str(NR2) + 'R2'\n",
    "model_number = '2020-10-02_13_50' # model number from an earlier run\n",
    "filepath = 'models/' + model_selection + '_' + model_number + '_all' + '.h5'\n",
    "\n",
    "strategy = tf.distribute.MirroredStrategy()\n",
    "with strategy.scope():\n",
    "    model = load_model(filepath, compile=False)     \n",
    "    model.compile(optimizer=Adam(), loss=weighted_tani_loss, metrics=[tani_coeff]) \n",
    "    "
   ]
  },
  {
   "cell_type": "code",
   "execution_count": 6,
   "metadata": {},
   "outputs": [
    {
     "name": "stdout",
     "output_type": "stream",
     "text": [
      "model_16F_5R1_0R2 2020-10-02_13_50\n"
     ]
    }
   ],
   "source": [
    "print(model_selection,model_number)"
   ]
  },
  {
   "cell_type": "code",
   "execution_count": 10,
   "metadata": {},
   "outputs": [
    {
     "name": "stdout",
     "output_type": "stream",
     "text": [
      "['lungs', 'non_lungs']\n"
     ]
    }
   ],
   "source": [
    "# In[5]\n",
    "\n",
    "# ### PREDICT MASKS FOR WORKING SET - PLOTS PATH\n",
    "\n",
    "print(CLASSES)\n",
    "\n",
    "# Source directory containing COVID patients lung CXR's\n",
    "source_resized_img_path = 'dataset/selected_COVID_pos4_neg5_image_resized_equalized/'\n",
    "\n",
    "# Target directories containing masks predicted for the CXR images in the source directory:\n",
    "# For JMS database\n",
    "target_resized_msk_path_binary = 'dataset/selected_COVID_pos4_neg5_masks_binary_952_3/'\n",
    "target_resized_msk_path_float = 'dataset/selected_COVID_pos4_neg5_masks_float_952_3/'\n",
    "target_img_mask_path = 'dataset/selected_COVID_pos4_neg5_images_masks_952_3/'\n",
    "\n",
    "# Remove existing target directories and all their content if already present\n",
    "pwd = os.getcwd()\n",
    "root_dir = '/wsu/home/aa/aa14/aa1426/Documents/JENA/MYOTUBES_SEGMENTATION/CXR-Net/Module_1'\n",
    "if root_dir == pwd:\n",
    "    for root, dirs, files in os.walk(target_resized_msk_path_binary):\n",
    "        for f in files:\n",
    "            os.unlink(os.path.join(root, f))\n",
    "        for d in dirs:\n",
    "            shutil.rmtree(os.path.join(root, d))\n",
    "    for root, dirs, files in os.walk(target_resized_msk_path_float):\n",
    "        for f in files:\n",
    "            os.unlink(os.path.join(root, f))\n",
    "        for d in dirs:\n",
    "            shutil.rmtree(os.path.join(root, d)) \n",
    "    for root, dirs, files in os.walk(target_img_mask_path):\n",
    "        for f in files:\n",
    "            os.unlink(os.path.join(root, f))\n",
    "        for d in dirs:\n",
    "            shutil.rmtree(os.path.join(root, d)) \n",
    "            \n",
    "# Create directories that will store the masks on which to train the classification network\n",
    "if not os.path.exists(target_resized_msk_path_binary):\n",
    "    os.makedirs(target_resized_msk_path_binary)\n",
    "    \n",
    "if not os.path.exists(target_resized_msk_path_float):\n",
    "    os.makedirs(target_resized_msk_path_float) \n",
    "    \n",
    "if not os.path.exists(target_img_mask_path):\n",
    "    os.makedirs(target_img_mask_path)\n",
    "\n",
    "# get CXR image names from source directory                \n",
    "source_img_names = [f for f in listdir(source_resized_img_path) if isfile(join(source_resized_img_path, f))]\n",
    "\n",
    "for name in source_img_names:\n",
    "    input_img = cv2.imread(source_resized_img_path + name, cv2.IMREAD_GRAYSCALE)\n",
    "    scaled_img = input_img/255\n",
    "    scaled_img = np.expand_dims(scaled_img,axis = [0,-1])\n",
    "    mask = model(scaled_img).numpy()\n",
    "    mask_float = np.squeeze(mask[0,:,:,0])    \n",
    "    mask_binary = (mask_float > 0.5)*1\n",
    "    \n",
    "    mask_float *=255    \n",
    "    mask_binary *=255\n",
    "    cv2.imwrite(target_resized_msk_path_float + name, mask_float)\n",
    "    cv2.imwrite(target_resized_msk_path_binary + name, mask_binary)\n",
    "    \n",
    "    fig = plt.figure(figsize=(20,10))\n",
    "    fig.subplots_adjust(hspace=0.4, wspace=0.2)\n",
    "\n",
    "    ax = fig.add_subplot(1, 2, 1)\n",
    "    ax.imshow(np.squeeze(input_img), cmap=\"gray\")\n",
    "    ax = fig.add_subplot(1, 2, 2)\n",
    "    ax.imshow(np.squeeze(mask_binary), cmap=\"gray\")       \n",
    "\n",
    "    plt.savefig(target_img_mask_path + name + '_img_and_pred_mask.png') \n",
    "    plt.close()\n",
    "    "
   ]
  },
  {
   "cell_type": "code",
   "execution_count": 11,
   "metadata": {
    "scrolled": true
   },
   "outputs": [
    {
     "name": "stdout",
     "output_type": "stream",
     "text": [
      "(300, 340) (1, 300, 340, 2) (300, 340) (300, 340)\n"
     ]
    }
   ],
   "source": [
    "print(input_img.shape,mask.shape,mask_float.shape,mask_binary.shape)"
   ]
  },
  {
   "cell_type": "code",
   "execution_count": null,
   "metadata": {},
   "outputs": [],
   "source": [
    "# In[6]\n",
    "\n",
    "# ### PLOT ONE EXAMPLE OF CONTINUOUS MASK\n",
    "\n",
    "fig = plt.figure(figsize=(20,10))\n",
    "fig.subplots_adjust(hspace=0.4, wspace=0.2)\n",
    "\n",
    "ax = fig.add_subplot(1, 2, 1)\n",
    "\n",
    "ax.imshow(np.squeeze(input_img), cmap=\"gray\")\n",
    "ax = fig.add_subplot(1, 2, 2)\n",
    "ax.imshow(np.squeeze(mask_float[:,:]), cmap=\"gray\")    \n"
   ]
  },
  {
   "cell_type": "code",
   "execution_count": null,
   "metadata": {
    "scrolled": false
   },
   "outputs": [],
   "source": [
    "# In[7]\n",
    "\n",
    "# ### PLOT ONE EXAMPLE OF BINARY MASK\n",
    "\n",
    "fig = plt.figure(figsize=(20,10))\n",
    "fig.subplots_adjust(hspace=0.4, wspace=0.2)\n",
    "\n",
    "ax = fig.add_subplot(1, 2, 1)\n",
    "\n",
    "ax.imshow(np.squeeze(input_img), cmap=\"gray\")\n",
    "ax = fig.add_subplot(1, 2, 2)\n",
    "ax.imshow(np.squeeze(mask_binary[:,:]), cmap=\"gray\")    \n"
   ]
  },
  {
   "cell_type": "code",
   "execution_count": null,
   "metadata": {},
   "outputs": [],
   "source": []
  }
 ],
 "metadata": {
  "kernelspec": {
   "display_name": "Python 3",
   "language": "python",
   "name": "python3"
  },
  "language_info": {
   "codemirror_mode": {
    "name": "ipython",
    "version": 3
   },
   "file_extension": ".py",
   "mimetype": "text/x-python",
   "name": "python",
   "nbconvert_exporter": "python",
   "pygments_lexer": "ipython3",
   "version": "3.6.6"
  },
  "varInspector": {
   "cols": {
    "lenName": 16,
    "lenType": 16,
    "lenVar": 40
   },
   "kernels_config": {
    "python": {
     "delete_cmd_postfix": "",
     "delete_cmd_prefix": "del ",
     "library": "var_list.py",
     "varRefreshCmd": "print(var_dic_list())"
    },
    "r": {
     "delete_cmd_postfix": ") ",
     "delete_cmd_prefix": "rm(",
     "library": "var_list.r",
     "varRefreshCmd": "cat(var_dic_list()) "
    }
   },
   "types_to_exclude": [
    "module",
    "function",
    "builtin_function_or_method",
    "instance",
    "_Feature"
   ],
   "window_display": false
  }
 },
 "nbformat": 4,
 "nbformat_minor": 2
}
